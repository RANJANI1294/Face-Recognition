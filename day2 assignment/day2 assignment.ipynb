{
 "cells": [
  {
   "cell_type": "code",
   "execution_count": 4,
   "id": "daef7001",
   "metadata": {},
   "outputs": [],
   "source": [
    "import numpy as np\n",
    "import cv2"
   ]
  },
  {
   "cell_type": "code",
   "execution_count": 5,
   "id": "196fd8c6",
   "metadata": {},
   "outputs": [
    {
     "name": "stdout",
     "output_type": "stream",
     "text": [
      "Sucess,We won this program\n",
      "Blue channel:  [[  0   0   0 ...   0   0   0]\n",
      " [  0   0   0 ...   0   0   0]\n",
      " [  0   0   0 ...   0   0   0]\n",
      " ...\n",
      " [202 202 202 ... 182 182 182]\n",
      " [202 202 202 ... 182 182 182]\n",
      " [202 202 202 ... 182 182 182]]\n",
      "Green channel:  [[255 255 255 ... 255 255 255]\n",
      " [255 255 255 ... 255 255 255]\n",
      " [255 255 255 ... 255 255 255]\n",
      " ...\n",
      " [202 202 202 ... 182 182 182]\n",
      " [202 202 202 ... 182 182 182]\n",
      " [202 202 202 ... 182 182 182]]\n",
      "Red channel:  [[  0   0   0 ...   0   0   0]\n",
      " [  0   0   0 ...   0   0   0]\n",
      " [  0   0   0 ...   0   0   0]\n",
      " ...\n",
      " [193 193 193 ... 180 180 180]\n",
      " [193 193 193 ... 180 180 180]\n",
      " [193 193 193 ... 180 180 180]]\n"
     ]
    }
   ],
   "source": [
    "cap = cv2.VideoCapture('sample.mp4')\n",
    "\n",
    "\n",
    "while cap.isOpened():\n",
    "    \n",
    "    sucess,frame = cap.read()\n",
    "    if sucess:\n",
    "        print(\"Sucess,We won this program\")\n",
    "        Gframe =cv2.cvtColor(frame,cv2.COLOR_BGR2GRAY)\n",
    "        \n",
    "        zeros = np.zeros((300,300,3),np.float32)\n",
    "     \n",
    "        \n",
    "        cv2.line(frame,(0,0),(520,590),(0,0,255),6)\n",
    "        cv2.rectangle(frame,(0,0),(590,590),(0,255,0),12)\n",
    "        cv2.putText(frame,\"HI NEWLEARNER\",(220,220),cv2.FONT_HERSHEY_SIMPLEX,1,(255,0,0),4)\n",
    "       \n",
    "        cv2.line(Gframe,(0,0),(520,590),(0,0,255),6)\n",
    "        cv2.rectangle(Gframe,(0,0),(590,590),(0,255,0),12)\n",
    "        cv2.putText(Gframe,\"HI NEWLEARNER\",(220,220),cv2.FONT_HERSHEY_SIMPLEX,1,(255,0,0),4)\n",
    "        \n",
    "        b,g,r = cv2.split(frame)\n",
    "        print(\"Blue channel: \", b)\n",
    "        print(\"Green channel: \", g)\n",
    "        print(\"Red channel: \", r)\n",
    "        \n",
    "        cv2.imshow('frame',frame)\n",
    "        cv2.imshow('Gframe',Gframe)\n",
    "        \n",
    "       \n",
    "\n",
    "        k=cv2.waitKey(0)\n",
    "        if k & 0xff == ord('q'):\n",
    "            break\n",
    "    else:\n",
    "        print(\"ITs not working\")\n",
    "        break\n",
    "\n",
    "cap.release()\n",
    "cv2.destroyAllWindows()\n",
    "        "
   ]
  },
  {
   "cell_type": "code",
   "execution_count": null,
   "id": "e35f49b7",
   "metadata": {},
   "outputs": [],
   "source": []
  },
  {
   "cell_type": "code",
   "execution_count": null,
   "id": "5b3dd644",
   "metadata": {},
   "outputs": [],
   "source": []
  }
 ],
 "metadata": {
  "kernelspec": {
   "display_name": "Python 3",
   "language": "python",
   "name": "python3"
  },
  "language_info": {
   "codemirror_mode": {
    "name": "ipython",
    "version": 3
   },
   "file_extension": ".py",
   "mimetype": "text/x-python",
   "name": "python",
   "nbconvert_exporter": "python",
   "pygments_lexer": "ipython3",
   "version": "3.8.8"
  }
 },
 "nbformat": 4,
 "nbformat_minor": 5
}
